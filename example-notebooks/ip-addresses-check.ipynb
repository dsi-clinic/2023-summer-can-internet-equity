{
 "cells": [
  {
   "cell_type": "code",
   "execution_count": 47,
   "metadata": {},
   "outputs": [
    {
     "name": "stdout",
     "output_type": "stream",
     "text": [
      "\n",
      "import \"strings\"\n",
      "\n",
      "from(bucket: \"netrics-prod0\")\n",
      "  |> range(start: -30d)\n",
      "  |> filter(fn: (r) => r[\"install\"] == \"nm-mngd-20210518-c22d980b\")\n",
      "  |> filter(fn: (r) => r[\"_measurement\"] == \"ping_latency\")\n",
      "  |> filter(fn: (r) => strings.containsStr(v: r[\"_field\"], substr: \"ip_address\"))\n",
      "\n"
     ]
    }
   ],
   "source": [
    "from influxdb_client import InfluxDBClient\n",
    "import pandas as pd\n",
    "from dotenv import load_dotenv\n",
    "load_dotenv()\n",
    "# Reach out to mtrichardson@uchicago.edu for access credentials\n",
    "\n",
    "client = InfluxDBClient(url=os.environ['INFLUX_URL'], token=os.environ['INFLUX_TOKEN'], org=os.environ['INFLUX_ORG'])\n",
    "\n",
    "query = \"\"\"\n",
    "import \"strings\"\n",
    "\n",
    "from(bucket: \"netrics-prod0\")\n",
    "  |> range(start: -30d)\n",
    "  |> filter(fn: (r) => r[\"install\"] == \"nm-mngd-20210518-c22d980b\")\n",
    "  |> filter(fn: (r) => r[\"_measurement\"] == \"ping_latency\")\n",
    "  |> filter(fn: (r) => strings.containsStr(v: r[\"_field\"], substr: \"ip_address\"))\n",
    "\"\"\"\n",
    "\n",
    "fquery = query.format('0', 'now()')\n",
    "print(fquery)\n",
    "\n",
    "result = client.query_api().query_data_frame(fquery)"
   ]
  },
  {
   "cell_type": "code",
   "execution_count": 48,
   "metadata": {},
   "outputs": [
    {
     "name": "stdout",
     "output_type": "stream",
     "text": [
      "(62256, 11)\n"
     ]
    },
    {
     "data": {
      "text/html": [
       "<div>\n",
       "<style scoped>\n",
       "    .dataframe tbody tr th:only-of-type {\n",
       "        vertical-align: middle;\n",
       "    }\n",
       "\n",
       "    .dataframe tbody tr th {\n",
       "        vertical-align: top;\n",
       "    }\n",
       "\n",
       "    .dataframe thead th {\n",
       "        text-align: right;\n",
       "    }\n",
       "</style>\n",
       "<table border=\"1\" class=\"dataframe\">\n",
       "  <thead>\n",
       "    <tr style=\"text-align: right;\">\n",
       "      <th></th>\n",
       "      <th>result</th>\n",
       "      <th>table</th>\n",
       "      <th>_start</th>\n",
       "      <th>_stop</th>\n",
       "      <th>_time</th>\n",
       "      <th>_value</th>\n",
       "      <th>_field</th>\n",
       "      <th>_measurement</th>\n",
       "      <th>install</th>\n",
       "      <th>meta_extended_dataver</th>\n",
       "      <th>meta_extended_debhash</th>\n",
       "    </tr>\n",
       "  </thead>\n",
       "  <tbody>\n",
       "    <tr>\n",
       "      <th>0</th>\n",
       "      <td>_result</td>\n",
       "      <td>0</td>\n",
       "      <td>2022-08-01 19:40:53.004664+00:00</td>\n",
       "      <td>2022-08-31 19:40:53.004664+00:00</td>\n",
       "      <td>2022-08-21 00:40:57.804344+00:00</td>\n",
       "      <td>4.71.254.129</td>\n",
       "      <td>Atlanta_ip_address</td>\n",
       "      <td>ping_latency</td>\n",
       "      <td>nm-mngd-20210518-c22d980b</td>\n",
       "      <td>1</td>\n",
       "      <td>b012ede</td>\n",
       "    </tr>\n",
       "    <tr>\n",
       "      <th>1</th>\n",
       "      <td>_result</td>\n",
       "      <td>0</td>\n",
       "      <td>2022-08-01 19:40:53.004664+00:00</td>\n",
       "      <td>2022-08-31 19:40:53.004664+00:00</td>\n",
       "      <td>2022-08-21 00:45:55.099256+00:00</td>\n",
       "      <td>4.71.254.129</td>\n",
       "      <td>Atlanta_ip_address</td>\n",
       "      <td>ping_latency</td>\n",
       "      <td>nm-mngd-20210518-c22d980b</td>\n",
       "      <td>1</td>\n",
       "      <td>b012ede</td>\n",
       "    </tr>\n",
       "    <tr>\n",
       "      <th>2</th>\n",
       "      <td>_result</td>\n",
       "      <td>0</td>\n",
       "      <td>2022-08-01 19:40:53.004664+00:00</td>\n",
       "      <td>2022-08-31 19:40:53.004664+00:00</td>\n",
       "      <td>2022-08-21 00:50:55.370084+00:00</td>\n",
       "      <td>4.71.254.129</td>\n",
       "      <td>Atlanta_ip_address</td>\n",
       "      <td>ping_latency</td>\n",
       "      <td>nm-mngd-20210518-c22d980b</td>\n",
       "      <td>1</td>\n",
       "      <td>b012ede</td>\n",
       "    </tr>\n",
       "    <tr>\n",
       "      <th>3</th>\n",
       "      <td>_result</td>\n",
       "      <td>0</td>\n",
       "      <td>2022-08-01 19:40:53.004664+00:00</td>\n",
       "      <td>2022-08-31 19:40:53.004664+00:00</td>\n",
       "      <td>2022-08-21 00:52:53.194498+00:00</td>\n",
       "      <td>4.71.254.129</td>\n",
       "      <td>Atlanta_ip_address</td>\n",
       "      <td>ping_latency</td>\n",
       "      <td>nm-mngd-20210518-c22d980b</td>\n",
       "      <td>1</td>\n",
       "      <td>b012ede</td>\n",
       "    </tr>\n",
       "    <tr>\n",
       "      <th>4</th>\n",
       "      <td>_result</td>\n",
       "      <td>0</td>\n",
       "      <td>2022-08-01 19:40:53.004664+00:00</td>\n",
       "      <td>2022-08-31 19:40:53.004664+00:00</td>\n",
       "      <td>2022-08-21 00:55:56.698773+00:00</td>\n",
       "      <td>4.71.254.129</td>\n",
       "      <td>Atlanta_ip_address</td>\n",
       "      <td>ping_latency</td>\n",
       "      <td>nm-mngd-20210518-c22d980b</td>\n",
       "      <td>1</td>\n",
       "      <td>b012ede</td>\n",
       "    </tr>\n",
       "  </tbody>\n",
       "</table>\n",
       "</div>"
      ],
      "text/plain": [
       "    result  table                           _start  \\\n",
       "0  _result      0 2022-08-01 19:40:53.004664+00:00   \n",
       "1  _result      0 2022-08-01 19:40:53.004664+00:00   \n",
       "2  _result      0 2022-08-01 19:40:53.004664+00:00   \n",
       "3  _result      0 2022-08-01 19:40:53.004664+00:00   \n",
       "4  _result      0 2022-08-01 19:40:53.004664+00:00   \n",
       "\n",
       "                             _stop                            _time  \\\n",
       "0 2022-08-31 19:40:53.004664+00:00 2022-08-21 00:40:57.804344+00:00   \n",
       "1 2022-08-31 19:40:53.004664+00:00 2022-08-21 00:45:55.099256+00:00   \n",
       "2 2022-08-31 19:40:53.004664+00:00 2022-08-21 00:50:55.370084+00:00   \n",
       "3 2022-08-31 19:40:53.004664+00:00 2022-08-21 00:52:53.194498+00:00   \n",
       "4 2022-08-31 19:40:53.004664+00:00 2022-08-21 00:55:56.698773+00:00   \n",
       "\n",
       "         _value              _field  _measurement                    install  \\\n",
       "0  4.71.254.129  Atlanta_ip_address  ping_latency  nm-mngd-20210518-c22d980b   \n",
       "1  4.71.254.129  Atlanta_ip_address  ping_latency  nm-mngd-20210518-c22d980b   \n",
       "2  4.71.254.129  Atlanta_ip_address  ping_latency  nm-mngd-20210518-c22d980b   \n",
       "3  4.71.254.129  Atlanta_ip_address  ping_latency  nm-mngd-20210518-c22d980b   \n",
       "4  4.71.254.129  Atlanta_ip_address  ping_latency  nm-mngd-20210518-c22d980b   \n",
       "\n",
       "  meta_extended_dataver meta_extended_debhash  \n",
       "0                     1               b012ede  \n",
       "1                     1               b012ede  \n",
       "2                     1               b012ede  \n",
       "3                     1               b012ede  \n",
       "4                     1               b012ede  "
      ]
     },
     "execution_count": 48,
     "metadata": {},
     "output_type": "execute_result"
    }
   ],
   "source": [
    "print(result.shape)\n",
    "# result = result.drop(columns=['result', 'table', '_start', '_stop', 'meta_extended_dataver', 'meta_extended_debhash'])\n",
    "result.head()"
   ]
  },
  {
   "cell_type": "code",
   "execution_count": 50,
   "metadata": {},
   "outputs": [
    {
     "data": {
      "text/plain": [
       "_field\n",
       "Atlanta_ip_address           1\n",
       "Chicago_ip_address           1\n",
       "Denver_ip_address            1\n",
       "Hong_Kong_ip_address         1\n",
       "Johannesburg_ip_address      1\n",
       "Paris_ip_address             1\n",
       "Sao_Paulo_ip_address         1\n",
       "Seattle_ip_address           1\n",
       "Stockholm_ip_address         1\n",
       "Sydney_ip_address            1\n",
       "Tunis_ip_address             1\n",
       "Washington_DC_ip_address     1\n",
       "amazon_ip_address           30\n",
       "facebook_ip_address          2\n",
       "google_ip_address            7\n",
       "suntimes_ip_address         11\n",
       "tribune_ip_address          84\n",
       "uchicago_ip_address          1\n",
       "wikipedia_ip_address         1\n",
       "youtube_ip_address          18\n",
       "dtype: int64"
      ]
     },
     "execution_count": 50,
     "metadata": {},
     "output_type": "execute_result"
    }
   ],
   "source": [
    "pd.options.display.max_rows = 100\n",
    "grouped = result.groupby([\"_field\", \"_value\"]).size().reset_index()\n",
    "grouped.groupby('_field').size()"
   ]
  },
  {
   "cell_type": "code",
   "execution_count": null,
   "metadata": {},
   "outputs": [],
   "source": []
  }
 ],
 "metadata": {
  "interpreter": {
   "hash": "9692c21fcff0e2357ac6064c01041d8023acbf20c1195d14c7f0eb18f19ab9cf"
  },
  "kernelspec": {
   "display_name": "Python 3.10.4 64-bit ('netrics-wifi': conda)",
   "name": "python3"
  },
  "language_info": {
   "codemirror_mode": {
    "name": "ipython",
    "version": 3
   },
   "file_extension": ".py",
   "mimetype": "text/x-python",
   "name": "python",
   "nbconvert_exporter": "python",
   "pygments_lexer": "ipython3",
   "version": "3.10.4"
  },
  "orig_nbformat": 4
 },
 "nbformat": 4,
 "nbformat_minor": 2
}
